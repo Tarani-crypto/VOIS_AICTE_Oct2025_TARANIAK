{
 "cells": [
  {
   "cell_type": "markdown",
   "id": "e03fa971",
   "metadata": {},
   "source": [
    "# Airbnb Hotel Booking Analysis\n",
    "\n",
    "This notebook analyzes the **Airbnb Open Data** to answer key business questions related to New York City Airbnb listings.\n",
    "\n",
    "---\n",
    "\n",
    "### Problem Statement:\n",
    "The hospitality industry has undergone a transformation with online platforms like Airbnb facilitating short-term lodging. This analysis explores the New York City Airbnb dataset to extract meaningful insights about pricing, host behavior, property types, and customer reviews.\n",
    "\n",
    "---\n",
    "\n",
    "### Key Questions:\n",
    "1. What are the different property types in the dataset?\n",
    "2. Which neighborhood group has the highest number of listings?\n",
    "3. Which neighborhoods have the highest average prices for Airbnb listings?\n",
    "4. Is there a relationship between the construction year of property and price?\n",
    "5. Who are the top 10 hosts by calculated host listing count?\n",
    "6. Are hosts with verified identities more likely to receive positive reviews?\n",
    "7. Is there a correlation between the price of a listing and its service fee?\n"
   ]
  },
  {
   "cell_type": "markdown",
   "id": "db82d0a2",
   "metadata": {},
   "source": [
    "## 1. Import Libraries and Load Dataset"
   ]
  },
  {
   "cell_type": "code",
   "execution_count": null,
   "id": "0b6f8ef0",
   "metadata": {},
   "outputs": [],
   "source": [
    "\n",
    "import pandas as pd\n",
    "import numpy as np\n",
    "import matplotlib.pyplot as plt\n",
    "import seaborn as sns\n",
    "\n",
    "# Load dataset\n",
    "df = pd.read_csv(\"Airbnb_Open_Data (1) (2).csv\")\n",
    "df.head()\n"
   ]
  },
  {
   "cell_type": "markdown",
   "id": "cbc1f773",
   "metadata": {},
   "source": [
    "## 2. Data Cleaning"
   ]
  },
  {
   "cell_type": "code",
   "execution_count": null,
   "id": "c8cd50f3",
   "metadata": {},
   "outputs": [],
   "source": [
    "\n",
    "# Remove $ from price and service fee, convert to numeric\n",
    "df['price'] = df['price'].replace('[\\$,]', '', regex=True).astype(float)\n",
    "df['service fee'] = df['service fee'].replace('[\\$,]', '', regex=True).astype(float)\n",
    "\n",
    "# Drop duplicates if any\n",
    "df.drop_duplicates(inplace=True)\n",
    "\n",
    "# Fill missing values for simplicity in analysis\n",
    "df['neighbourhood group'].fillna('Unknown', inplace=True)\n",
    "df['neighbourhood'].fillna('Unknown', inplace=True)\n",
    "df['host_identity_verified'].fillna('unconfirmed', inplace=True)\n",
    "df['review rate number'].fillna(0, inplace=True)\n",
    "\n",
    "df.info()\n"
   ]
  },
  {
   "cell_type": "markdown",
   "id": "1848921a",
   "metadata": {},
   "source": [
    "## 3. What are the different property types?"
   ]
  },
  {
   "cell_type": "code",
   "execution_count": null,
   "id": "5b024e93",
   "metadata": {},
   "outputs": [],
   "source": [
    "\n",
    "df['room type'].value_counts().plot(kind='bar', color='skyblue')\n",
    "plt.title(\"Distribution of Property Types\")\n",
    "plt.ylabel(\"Count\")\n",
    "plt.show()\n"
   ]
  },
  {
   "cell_type": "markdown",
   "id": "bc58352c",
   "metadata": {},
   "source": [
    "## 4. Neighborhood group with highest number of listings"
   ]
  },
  {
   "cell_type": "code",
   "execution_count": null,
   "id": "33463fe9",
   "metadata": {},
   "outputs": [],
   "source": [
    "\n",
    "sns.countplot(data=df, x='neighbourhood group', order=df['neighbourhood group'].value_counts().index, palette=\"viridis\")\n",
    "plt.title(\"Number of Listings by Neighborhood Group\")\n",
    "plt.show()\n"
   ]
  },
  {
   "cell_type": "markdown",
   "id": "115ed4c5",
   "metadata": {},
   "source": [
    "## 5. Neighborhoods with the highest average Airbnb prices"
   ]
  },
  {
   "cell_type": "code",
   "execution_count": null,
   "id": "059742b2",
   "metadata": {},
   "outputs": [],
   "source": [
    "\n",
    "top_prices = df.groupby('neighbourhood')['price'].mean().sort_values(ascending=False).head(10)\n",
    "top_prices.plot(kind='bar', color='salmon')\n",
    "plt.title(\"Top 10 Neighborhoods by Average Price\")\n",
    "plt.ylabel(\"Average Price\")\n",
    "plt.show()\n"
   ]
  },
  {
   "cell_type": "markdown",
   "id": "5b0eb1d3",
   "metadata": {},
   "source": [
    "## 6. Relationship between construction year and price"
   ]
  },
  {
   "cell_type": "code",
   "execution_count": null,
   "id": "8d8624b5",
   "metadata": {},
   "outputs": [],
   "source": [
    "\n",
    "sns.scatterplot(data=df, x='Construction year', y='price', alpha=0.3)\n",
    "plt.title(\"Price vs Construction Year\")\n",
    "plt.show()\n"
   ]
  },
  {
   "cell_type": "markdown",
   "id": "91885168",
   "metadata": {},
   "source": [
    "## 7. Top 10 Hosts by Listing Count"
   ]
  },
  {
   "cell_type": "code",
   "execution_count": null,
   "id": "347df7a3",
   "metadata": {},
   "outputs": [],
   "source": [
    "\n",
    "top_hosts = df.groupby('host name')['calculated host listings count'].sum().sort_values(ascending=False).head(10)\n",
    "top_hosts.plot(kind='bar', color='orange')\n",
    "plt.title(\"Top 10 Hosts by Listings\")\n",
    "plt.ylabel(\"Total Listings\")\n",
    "plt.show()\n"
   ]
  },
  {
   "cell_type": "markdown",
   "id": "cdf0aa53",
   "metadata": {},
   "source": [
    "## 8. Verified Hosts vs Review Ratings"
   ]
  },
  {
   "cell_type": "code",
   "execution_count": null,
   "id": "b8ab2f1f",
   "metadata": {},
   "outputs": [],
   "source": [
    "\n",
    "sns.boxplot(data=df, x='host_identity_verified', y='review rate number')\n",
    "plt.title(\"Review Ratings: Verified vs Unverified Hosts\")\n",
    "plt.show()\n"
   ]
  },
  {
   "cell_type": "markdown",
   "id": "c807bc11",
   "metadata": {},
   "source": [
    "## 9. Correlation between Price and Service Fee"
   ]
  },
  {
   "cell_type": "code",
   "execution_count": null,
   "id": "8ed4212b",
   "metadata": {},
   "outputs": [],
   "source": [
    "\n",
    "sns.scatterplot(data=df, x='price', y='service fee', alpha=0.3)\n",
    "plt.title(\"Correlation between Price and Service Fee\")\n",
    "plt.show()\n",
    "\n",
    "correlation = df[['price','service fee']].corr()\n",
    "correlation\n"
   ]
  }
 ],
 "metadata": {},
 "nbformat": 4,
 "nbformat_minor": 5
}
